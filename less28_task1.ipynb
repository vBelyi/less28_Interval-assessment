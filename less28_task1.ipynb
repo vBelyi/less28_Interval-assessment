{
 "cells": [
  {
   "cell_type": "code",
   "execution_count": 1,
   "id": "7713d6d7",
   "metadata": {},
   "outputs": [],
   "source": [
    "import pandas as pd"
   ]
  },
  {
   "cell_type": "code",
   "execution_count": 6,
   "id": "0e7e4661",
   "metadata": {},
   "outputs": [],
   "source": [
    "my_list = [[1, 2, 4, 6, 7],[2, 3, 10, 3, 2]]"
   ]
  },
  {
   "cell_type": "code",
   "execution_count": 12,
   "id": "89543c3c",
   "metadata": {},
   "outputs": [],
   "source": [
    "df = pd.DataFrame(my_list)\n",
    "df = df.T\n",
    "df.columns = ['Xi','Ni']"
   ]
  },
  {
   "cell_type": "code",
   "execution_count": 13,
   "id": "c66d9832",
   "metadata": {},
   "outputs": [
    {
     "data": {
      "text/html": [
       "<div>\n",
       "<style scoped>\n",
       "    .dataframe tbody tr th:only-of-type {\n",
       "        vertical-align: middle;\n",
       "    }\n",
       "\n",
       "    .dataframe tbody tr th {\n",
       "        vertical-align: top;\n",
       "    }\n",
       "\n",
       "    .dataframe thead th {\n",
       "        text-align: right;\n",
       "    }\n",
       "</style>\n",
       "<table border=\"1\" class=\"dataframe\">\n",
       "  <thead>\n",
       "    <tr style=\"text-align: right;\">\n",
       "      <th></th>\n",
       "      <th>Xi</th>\n",
       "      <th>Ni</th>\n",
       "    </tr>\n",
       "  </thead>\n",
       "  <tbody>\n",
       "    <tr>\n",
       "      <th>0</th>\n",
       "      <td>1</td>\n",
       "      <td>2</td>\n",
       "    </tr>\n",
       "    <tr>\n",
       "      <th>1</th>\n",
       "      <td>2</td>\n",
       "      <td>3</td>\n",
       "    </tr>\n",
       "    <tr>\n",
       "      <th>2</th>\n",
       "      <td>4</td>\n",
       "      <td>10</td>\n",
       "    </tr>\n",
       "    <tr>\n",
       "      <th>3</th>\n",
       "      <td>6</td>\n",
       "      <td>3</td>\n",
       "    </tr>\n",
       "    <tr>\n",
       "      <th>4</th>\n",
       "      <td>7</td>\n",
       "      <td>2</td>\n",
       "    </tr>\n",
       "  </tbody>\n",
       "</table>\n",
       "</div>"
      ],
      "text/plain": [
       "   Xi  Ni\n",
       "0   1   2\n",
       "1   2   3\n",
       "2   4  10\n",
       "3   6   3\n",
       "4   7   2"
      ]
     },
     "execution_count": 13,
     "metadata": {},
     "output_type": "execute_result"
    }
   ],
   "source": [
    "df"
   ]
  },
  {
   "cell_type": "code",
   "execution_count": 25,
   "id": "14749c9b",
   "metadata": {},
   "outputs": [
    {
     "data": {
      "text/plain": [
       "4.0"
      ]
     },
     "execution_count": 25,
     "metadata": {},
     "output_type": "execute_result"
    }
   ],
   "source": [
    "#Знаходимо вибіркове середнє\n",
    "X = sum(df['Xi']*df['Ni']) / sum(df['Ni'])\n",
    "X"
   ]
  },
  {
   "cell_type": "code",
   "execution_count": 28,
   "id": "bf91ebf8",
   "metadata": {},
   "outputs": [
    {
     "data": {
      "text/plain": [
       "3.1578947368421053"
      ]
     },
     "execution_count": 28,
     "metadata": {},
     "output_type": "execute_result"
    }
   ],
   "source": [
    "#Знаходимо дисперсію\n",
    "dispersion_x = (sum((df['Xi'] - X)**2*df['Ni'])) / (sum(df['Ni'])-1)\n",
    "dispersion_x"
   ]
  },
  {
   "cell_type": "code",
   "execution_count": 29,
   "id": "8eb849d3",
   "metadata": {},
   "outputs": [
    {
     "data": {
      "text/plain": [
       "1.7770466332772772"
      ]
     },
     "execution_count": 29,
     "metadata": {},
     "output_type": "execute_result"
    }
   ],
   "source": [
    "#Знаходимо середньоквадратичне відхилення\n",
    "deviation_x = dispersion_x**0.5\n",
    "deviation_x"
   ]
  },
  {
   "cell_type": "code",
   "execution_count": 41,
   "id": "b6331b55",
   "metadata": {},
   "outputs": [
    {
     "data": {
      "text/plain": [
       "1.1195393789646846"
      ]
     },
     "execution_count": 41,
     "metadata": {},
     "output_type": "execute_result"
    }
   ],
   "source": [
    "#для n=20 та н=0.95 знаходимо q=0.37 (З таблиці значень q = q(y, n) для оцінки середньоквадратичного відхилення)\n",
    "#Знаходимо початок інтервальної оцінки\n",
    "k_start = deviation_x * (1-0.37)\n",
    "k_start"
   ]
  },
  {
   "cell_type": "code",
   "execution_count": 42,
   "id": "21861636",
   "metadata": {},
   "outputs": [
    {
     "data": {
      "text/plain": [
       "2.43455388758987"
      ]
     },
     "execution_count": 42,
     "metadata": {},
     "output_type": "execute_result"
    }
   ],
   "source": [
    "#Знаходимо кінець інтервальної оцінки\n",
    "k_end = deviation_x * (1 + 0.37)\n",
    "k_end"
   ]
  },
  {
   "cell_type": "code",
   "execution_count": 43,
   "id": "1a0b312a",
   "metadata": {},
   "outputs": [
    {
     "data": {
      "text/plain": [
       "True"
      ]
     },
     "execution_count": 43,
     "metadata": {},
     "output_type": "execute_result"
    }
   ],
   "source": [
    "#інтервальна оцінка матиме вигляд (інтервальна оцінка покриває середньоквадратичне відхилення генеральної сукупності)\n",
    "k_start < deviation_x < k_end"
   ]
  },
  {
   "cell_type": "code",
   "execution_count": null,
   "id": "fd66d5bc",
   "metadata": {},
   "outputs": [],
   "source": []
  }
 ],
 "metadata": {
  "kernelspec": {
   "display_name": "Python 3 (ipykernel)",
   "language": "python",
   "name": "python3"
  },
  "language_info": {
   "codemirror_mode": {
    "name": "ipython",
    "version": 3
   },
   "file_extension": ".py",
   "mimetype": "text/x-python",
   "name": "python",
   "nbconvert_exporter": "python",
   "pygments_lexer": "ipython3",
   "version": "3.9.13"
  }
 },
 "nbformat": 4,
 "nbformat_minor": 5
}
