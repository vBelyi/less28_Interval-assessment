{
 "cells": [
  {
   "cell_type": "code",
   "execution_count": 2,
   "id": "98300e0a",
   "metadata": {},
   "outputs": [],
   "source": [
    "#Знайти з надійністю y=0,95 інтервальну оцінку для ймовірності настання події А в кожному із n=100 незалежних повторних випробувань, якщо подія відбулась m=40 раз.\n",
    "n=100\n",
    "m=40"
   ]
  },
  {
   "cell_type": "code",
   "execution_count": 3,
   "id": "1572a2d6",
   "metadata": {},
   "outputs": [],
   "source": [
    "#Для знаходження інтервальної оцінки події A використовуэмо формулу для інтервальної оцінки пропорції (так як ми не знаємо розподіл нормальний чи ні)\n",
    "#Критерій t знаходимо в таблиці Лапласа. Для надійності 0,95 t = 1,96\n",
    "t=1.96"
   ]
  },
  {
   "cell_type": "code",
   "execution_count": 4,
   "id": "20237f30",
   "metadata": {},
   "outputs": [
    {
     "data": {
      "text/plain": [
       "0.4"
      ]
     },
     "execution_count": 4,
     "metadata": {},
     "output_type": "execute_result"
    }
   ],
   "source": [
    "p = m/n\n",
    "p"
   ]
  },
  {
   "cell_type": "code",
   "execution_count": 5,
   "id": "fc76daf2",
   "metadata": {},
   "outputs": [
    {
     "data": {
      "text/plain": [
       "0.30398000208289944"
      ]
     },
     "execution_count": 5,
     "metadata": {},
     "output_type": "execute_result"
    }
   ],
   "source": [
    "p1 = p - t * ((p*(1-p)/n)**0.5)\n",
    "p1"
   ]
  },
  {
   "cell_type": "code",
   "execution_count": 6,
   "id": "7c34e2c3",
   "metadata": {},
   "outputs": [
    {
     "data": {
      "text/plain": [
       "0.4960199979171006"
      ]
     },
     "execution_count": 6,
     "metadata": {},
     "output_type": "execute_result"
    }
   ],
   "source": [
    "p2 = p + t * ((p*(1-p)/n)**0.5)\n",
    "p2"
   ]
  },
  {
   "cell_type": "code",
   "execution_count": 7,
   "id": "3ab3a2dd",
   "metadata": {},
   "outputs": [],
   "source": [
    "#Отже, інтервальна оцінка ймовірності настання події A з надійністю y=0,95 становить від p1 = 0.30398000208289944 до p2 = 0.4960199979171006"
   ]
  },
  {
   "cell_type": "code",
   "execution_count": 11,
   "id": "f00edfc9",
   "metadata": {},
   "outputs": [
    {
     "data": {
      "text/plain": [
       "0.3093997461136028"
      ]
     },
     "execution_count": 11,
     "metadata": {},
     "output_type": "execute_result"
    }
   ],
   "source": [
    "#Спосіб 2, якби у нас була вибірка з нормального розподілу:\n",
    "p_1 = (1 / (t**2 + n)) * ( (m + t**2 / 2) - t * ((m*(n-m))/n + t**2/4 )**0.5 )\n",
    "p_1"
   ]
  },
  {
   "cell_type": "code",
   "execution_count": 12,
   "id": "1273f2ec",
   "metadata": {},
   "outputs": [
    {
     "data": {
      "text/plain": [
       "0.4979992153815975"
      ]
     },
     "execution_count": 12,
     "metadata": {},
     "output_type": "execute_result"
    }
   ],
   "source": [
    "p_2 = (1 / (t**2 + n)) * ( (m + t**2 / 2) + t * ((m*(n-m))/n + t**2/4 )**0.5 )\n",
    "p_2"
   ]
  }
 ],
 "metadata": {
  "kernelspec": {
   "display_name": "Python 3 (ipykernel)",
   "language": "python",
   "name": "python3"
  },
  "language_info": {
   "codemirror_mode": {
    "name": "ipython",
    "version": 3
   },
   "file_extension": ".py",
   "mimetype": "text/x-python",
   "name": "python",
   "nbconvert_exporter": "python",
   "pygments_lexer": "ipython3",
   "version": "3.9.13"
  }
 },
 "nbformat": 4,
 "nbformat_minor": 5
}
