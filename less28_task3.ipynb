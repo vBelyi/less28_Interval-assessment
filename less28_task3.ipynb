{
 "cells": [
  {
   "cell_type": "code",
   "execution_count": 2,
   "id": "e9d0008d",
   "metadata": {},
   "outputs": [],
   "source": [
    "#Знайти мінімальний об’єм вибірки, при якому з надійністю 0,99 точність оцінки математичного сподівання а нормально розподіленої ознаки дорівнює 0,6, якщо середнє квадратичне відхилення = 3."
   ]
  },
  {
   "cell_type": "code",
   "execution_count": null,
   "id": "f871df3e",
   "metadata": {},
   "outputs": [],
   "source": [
    "#Критерій t знаходимо в таблиці Лапласа. Для надійності 0,99 t = 2,58\n",
    "t=2.58"
   ]
  },
  {
   "cell_type": "code",
   "execution_count": 3,
   "id": "313abd04",
   "metadata": {},
   "outputs": [
    {
     "data": {
      "text/plain": [
       "166.41000000000003"
      ]
     },
     "execution_count": 3,
     "metadata": {},
     "output_type": "execute_result"
    }
   ],
   "source": [
    "#Знаходимо об'єм вибірки\n",
    "n = (t**2 * 3**2) / 0.6**2\n",
    "n"
   ]
  }
 ],
 "metadata": {
  "kernelspec": {
   "display_name": "Python 3 (ipykernel)",
   "language": "python",
   "name": "python3"
  },
  "language_info": {
   "codemirror_mode": {
    "name": "ipython",
    "version": 3
   },
   "file_extension": ".py",
   "mimetype": "text/x-python",
   "name": "python",
   "nbconvert_exporter": "python",
   "pygments_lexer": "ipython3",
   "version": "3.9.13"
  }
 },
 "nbformat": 4,
 "nbformat_minor": 5
}
